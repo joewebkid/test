{
 "cells": [
  {
   "cell_type": "markdown",
   "metadata": {},
   "source": [
    "\n",
    "# Основы статистики\n",
    "\n",
    "#### конспект лекций\n",
    "\n",
    "#### Автор: Anatoliy Karpov\n",
    "#### инициатор конспекта Mikhail Kurochkin telegram: @mikhail_kurochkin\n",
    "<img src=\"img/Saint_Karpov.png\" width=400>"
   ]
  }
   
